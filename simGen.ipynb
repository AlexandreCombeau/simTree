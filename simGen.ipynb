{
 "cells": [
  {
   "cell_type": "code",
   "execution_count": 1,
   "metadata": {},
   "outputs": [],
   "source": [
    "import random\n",
    "import numpy as np \n",
    "from functools import reduce \n",
    "import typing\n",
    "from copy import deepcopy\n",
    "\n"
   ]
  },
  {
   "cell_type": "code",
   "execution_count": 2,
   "metadata": {},
   "outputs": [],
   "source": [
    "###---------------------------------------------------------------------###\n",
    "###-------------------------------------> Helper functions\n",
    "\n",
    "def f(a : str) -> str:\n",
    "    return a+\"o\"\n",
    "def g(a : str) -> str:\n",
    "    return a+\"K\"\n",
    "def h(a : str) -> str:\n",
    "    return a+a\n",
    "def ag1(a : str, b : str) -> str:\n",
    "    return a+\"-\"+b\n",
    "def ag2(a : str, b : str) -> str:\n",
    "    return b+\"-\"+a\n",
    "\n",
    "\n",
    "\n",
    " "
   ]
  },
  {
   "cell_type": "code",
   "execution_count": 3,
   "metadata": {},
   "outputs": [],
   "source": [
    "from typing import Callable, Self, Union\n",
    "import random\n",
    "\n",
    "rootType = Callable[[str,str], float]\n",
    "nodeType = Callable[[str], str]\n",
    "leafType = str\n",
    "\n",
    "#TODO refactor lambda functions\n",
    "\n",
    "class SimTree():\n",
    "\n",
    "    def __init__(self, value : leafType | nodeType | rootType = None, child : list = None):\n",
    "        self.value = value \n",
    "        self.child = child or []\n",
    "        self.isRoot = lambda x: True if(len(x.child) == 2) else False\n",
    "        self.isNode = lambda x: True if(len(x.child) == 1) else False\n",
    "        self.isLeaf = lambda x: True if(len(x.child) == 0) else False\n",
    "        \n",
    "    def __str__(self) -> str:\n",
    "        if self.isRoot(self): #root \n",
    "            tree_list = str([self.value.__name__,\n",
    "                         self.child[0].__str__(),\n",
    "                         self.child[1].__str__()])\n",
    "        elif self.isNode(self): #nodes\n",
    "            tree_list = [self.value.__name__,self.child[0].__str__()]\n",
    "        else: #leaf\n",
    "            tree_list = self.value\n",
    "        return tree_list  \n",
    "\n",
    "    def __eq__(self, other : Self) -> bool:\n",
    "        if self.isRoot(self) and other.isRoot(other):\n",
    "            return ((self.child[0].get_depth() == other.child[0].get_depth()) and \n",
    "                    (self.child[1].get_depth() == other.child[1].get_depth())\n",
    "                    ) and (self.value == other.value) and (self.child[0].__eq__(other.child[0]))\n",
    "        elif self.isNode(self) and other.isNode(other):\n",
    "            return (self.value == other.value) and self.child[0].__eq__(other.child[0])\n",
    "        else: \n",
    "            return True\n",
    "          \n",
    "    def return_tree_asList(self) -> list[Union[leafType, nodeType, rootType]]:\n",
    "        if self.isRoot(self): #root \n",
    "            tree_list = [self.value,\n",
    "                         self.child[0].return_tree_asList(),\n",
    "                         self.child[1].return_tree_asList()]\n",
    "        elif self.isNode(self): #nodes\n",
    "            tree_list = [self.value,self.child[0].return_tree_asList()]\n",
    "        else: #leaf\n",
    "            tree_list = self.value \n",
    "        return tree_list\n",
    "      \n",
    "    def compute(self) -> float:\n",
    "        if self.isRoot(self): #root\n",
    "            return self.value(self.child[0].compute(),\n",
    "                              self.child[1].compute())\n",
    "        elif self.isNode(self): #nodes\n",
    "            return self.value(self.child[0].compute())\n",
    "        else: #leaf\n",
    "            return self.value\n",
    "\n",
    "    def set_leaf_value(self,value : str) -> None:\n",
    "        if self.isNode(self):\n",
    "            self.child[0].set_leaf_value(value)\n",
    "        if self.isLeaf(self):\n",
    "            self.value = value\n",
    "\n",
    "    def set_leafs_value(self,values : list[str]) -> None:\n",
    "        x,y = values\n",
    "        self.child[0].set_leaf_value(x)\n",
    "        self.child[1].set_leaf_value(y)\n",
    "\n",
    "    def get_Similarity_function(self) -> rootType:\n",
    "        if self.isRoot(self): #root\n",
    "            return self.value\n",
    "        \n",
    "    def get_transformations_functions(self) -> list[nodeType]:\n",
    "        flatten = lambda l : [item for sublist in l for item in sublist]\n",
    "        if self.isRoot(self) == 2: #root\n",
    "            return flatten([self.child[0].get_transformations_functions,\n",
    "                            self.child[1].get_transformations_functions])\n",
    "\n",
    "        elif self.isNode(self) == 1: #nodes\n",
    "            return self.value\n",
    "\n",
    "    def find_depth(self,x : int) -> int:\n",
    "        x+=1\n",
    "        if self.isRoot(self):\n",
    "            return max(self.child[0].find_depth(x), self.child[1].find_depth(x))\n",
    "        if self.isNode(self):\n",
    "            return self.child[0].find_depth(x)\n",
    "        if self.isLeaf(self):\n",
    "            return x    \n",
    "\n",
    "    def get_depth(self) -> int:\n",
    "        return self.find_depth(0)    \n",
    "\n",
    "\n",
    "def tree_from_list(tree_list : list) -> SimTree:\n",
    "    if len(tree_list) == 3: #root\n",
    "        value = tree_list[0]\n",
    "        left_child = tree_list[1]\n",
    "        right_child = tree_list[2]\n",
    "        return SimTree(value,\n",
    "                [tree_from_list(left_child),\n",
    "                tree_from_list(right_child)])\n",
    "    elif len(tree_list) == 2: #nodes        \n",
    "        value = tree_list[0]\n",
    "        child = tree_list[1]\n",
    "        return SimTree(value,[tree_from_list(child)])\n",
    "    else: #leaf\n",
    "        value = tree_list[0]\n",
    "        return SimTree(value,[])"
   ]
  },
  {
   "cell_type": "code",
   "execution_count": 4,
   "metadata": {},
   "outputs": [
    {
     "name": "stderr",
     "output_type": "stream",
     "text": [
      "[nltk_data] Downloading package punkt to\n",
      "[nltk_data]     C:\\Users\\user2\\AppData\\Roaming\\nltk_data...\n",
      "[nltk_data]   Package punkt is already up-to-date!\n",
      "[nltk_data] Downloading package stopwords to\n",
      "[nltk_data]     C:\\Users\\user2\\AppData\\Roaming\\nltk_data...\n",
      "[nltk_data]   Package stopwords is already up-to-date!\n",
      "[nltk_data] Downloading package wordnet to\n",
      "[nltk_data]     C:\\Users\\user2\\AppData\\Roaming\\nltk_data...\n",
      "[nltk_data]   Package wordnet is already up-to-date!\n"
     ]
    }
   ],
   "source": [
    "from similarity import *\n",
    "from transformation import *"
   ]
  },
  {
   "cell_type": "code",
   "execution_count": 5,
   "metadata": {},
   "outputs": [],
   "source": [
    "TRANSFORMATION_FUNCTIONS = transformation_functions()           \n",
    "SIMILARITY_FUNCTIONS = similarity_functions()\n",
    "           \n",
    "flatten = lambda l : [item for sublist in l for item in sublist]\n",
    "def get_rd_function(nb_child,value):\n",
    "    if nb_child == 2:\n",
    "        function_list = SIMILARITY_FUNCTIONS\n",
    "    else:\n",
    "        function_list = TRANSFORMATION_FUNCTIONS\n",
    "    flag = True\n",
    "    while flag:\n",
    "        new_value = random.choice(function_list)\n",
    "        if new_value != value:\n",
    "            flag = False\n",
    "    return new_value"
   ]
  },
  {
   "cell_type": "code",
   "execution_count": 6,
   "metadata": {},
   "outputs": [],
   "source": [
    "from datetime import datetime\n",
    "\n",
    "dates = [\n",
    "    '2006-10-28', '2005-11-15', '1936-11-07', '1955-09-08', '1936-12-07',\n",
    "    '1937-04-12', '1974-12-02', '1972-06-30', '1955-07-06', '2006-09-09',\n",
    "    '2007-11-06', '2007-11-13', '2009-09-29', '2014-03-25', '2001-12-04',\n",
    "    '2004-09-06', '2004-11-10', '2004-11-23', '2004-12-09', '2005-09-27',\n",
    "    '2011-09-27', '2000-09-12', '1999-09-14', '2003-11-11', '2004-02-05',\n",
    "    '2006-04-04', '2005-11-16', '2005-11-24', '2008-09-23', '2010-10-19',\n",
    "    '2005-09-13', '2005-09-14', '2006-03-07', '2009-09-08', '2011-11-01',\n",
    "    '2003-06-03', '1969-02-10', '2017-04-28', '2022-10-24', '2004-05-10',\n",
    "    '2018-03-14', '2002-04-11', '2013-03-09'\n",
    "]\n",
    "\n",
    "american_dates = []\n",
    "european_dates = []\n",
    "\n",
    "for date_str in dates:\n",
    "    date_obj = datetime.strptime(date_str, '%Y-%m-%d')\n",
    "    american_date = date_obj.strftime('%m/%d/%Y')\n",
    "    american_dates.append(american_date)\n",
    "    european_date = date_obj.strftime('%d/%m/%Y')\n",
    "    european_dates.append(european_date)\n",
    "\n",
    "# Print the converted dates\n",
    "values = []\n",
    "for a,e in zip(american_dates,european_dates):\n",
    "    #print(a+\" - \"+e)\n",
    "    values.append((a,e))\n"
   ]
  },
  {
   "cell_type": "code",
   "execution_count": 7,
   "metadata": {},
   "outputs": [],
   "source": [
    "param_algo = {\n",
    "    \"population_size\" : 100,\n",
    "    \"nb_generation\"   : 20,\n",
    "    \"proba_mutation\"  : 0.3,\n",
    "    \"proba_crossover\" : 0.2,\n",
    "    \"proba_random\"    : 0.1\n",
    "    #\"proba_ellitism\"  : 0.5,\n",
    "}\n",
    "\n",
    "param_data = {\n",
    "    \"tree_max_depth\" : 8,\n",
    "    \"similarity_functions\" : similarity_functions(),\n",
    "    \"transformation_functions\" : transformation_functions(),\n",
    "    \"values\" : values\n",
    "}\n",
    "\n"
   ]
  },
  {
   "cell_type": "code",
   "execution_count": 89,
   "metadata": {},
   "outputs": [],
   "source": [
    "class SimGen():\n",
    "    def __init__(self, param_algo : dict , param_data : dict):\n",
    "        #main param\n",
    "        self.population_size : int = param_algo[\"population_size\"]\n",
    "        self.nb_generation   : int = param_algo[\"nb_generation\"]\n",
    "        \n",
    "        \n",
    "        #evolution param\n",
    "        self.proba_mutation  : float = param_algo[\"proba_mutation\"]\n",
    "        self.proba_crossover : float = param_algo[\"proba_crossover\"]\n",
    "        self.proba_random_tree : float = param_algo[\"proba_random\"]\n",
    "        self.mutation_population_size    : int = round(self.proba_mutation*self.population_size)\n",
    "        self.crossover_population_size   : int = round(self.proba_crossover*self.population_size)\n",
    "        self.random_tree_population_size : int = round(self.proba_random_tree*self.population_size)\n",
    "        self.elitism_population_size     : int = self.population_size - (\n",
    "            self.mutation_population_size+\n",
    "            self.crossover_population_size+\n",
    "            self.random_tree_population_size\n",
    "        )\n",
    "        #self.proba_ellitism  : float = param_algo[\"proba_ellitism\"] #proba to keep best elem\n",
    "\n",
    "        #candidate param\n",
    "        self.tree_max_depth : int = param_data[\"tree_max_depth\"]\n",
    "\n",
    "        #init param\n",
    "        #TODO implement diff types of population in evolution\n",
    "        self.population_initial : list[SimTree] = [] #initial population\n",
    "        self.population : list[SimTree] = [] #current population\n",
    "        self.population_old : list[SimTree] = [] #previous population\n",
    "        self.population_scores : list[int] = [0]*self.population_size #every candidate has a score computed at the end of an generation\n",
    "        self.similarity_functions : list[rootType] = param_data[\"similarity_functions\"] \n",
    "        self.transformation_functions : list[nodeType] = param_data[\"transformation_functions\"]\n",
    "\n",
    "        #values param\n",
    "        self.values : list[tuple[str,str]] = param_data[\"values\"] #[(x1,y1),(x2,y2)...,(xn,yn)] such as (ei,p,xi) <=> (e'i,p',yi)\n",
    "\n",
    "    def generate_random_tree(self):\n",
    "        nb_transformation = random.randint(1,self.tree_max_depth)\n",
    "        tf_left = np.random.choice(self.transformation_functions,nb_transformation,replace=False)\n",
    "        tf_left = np.append(tf_left,[\"a\"]) #TODO check comment mieux gerer le lift\n",
    "        tf_right = np.random.choice(self.transformation_functions,nb_transformation,replace=False)\n",
    "        tf_right = np.append(tf_right,[\"a\"])\n",
    "        sf = np.random.choice(self.similarity_functions,1)[0]\n",
    "        def nest_list(lst):\n",
    "            #format our list of function : [f,g,h,...]\n",
    "            #into : [f,[g,[h,[...]]]]\n",
    "            if len(lst) == 1:\n",
    "                return [lst[0]]\n",
    "            else:\n",
    "                return [lst[0], nest_list(lst[1:])]\n",
    "\n",
    "        tree_list = [sf,nest_list(tf_left),nest_list(tf_right)]\n",
    "        tree = tree_from_list(tree_list)\n",
    "        return tree\n",
    "\n",
    "    def init_population(self):\n",
    "        \"\"\"\n",
    "            Generate a population of size n with random tree\n",
    "        \n",
    "        \"\"\"\n",
    "        #check variance and stuff meta data TODO\n",
    "        for _ in range(self.population_size):\n",
    "            self.population.append(self.generate_random_tree())\n",
    "    \n",
    "    #TODO add regularisation parameter\n",
    "    def fitness_function(self):\n",
    "        '''\n",
    "            Compute the score of a tree on every value pair\n",
    "            Keep the mean as a score\n",
    "        '''    \n",
    "         \n",
    "        for index,candidate in enumerate(self.population):\n",
    "            for values in self.values:\n",
    "                #compute score for each value pair for one tree\n",
    "                candidate.set_leafs_value(values)\n",
    "                score = candidate.compute()\n",
    "                self.population_scores[index] += score\n",
    "            self.population_scores[index] /= len(self.values)\n",
    "            \n",
    "    #add loger to track evolution change\n",
    "    def mutation(self, mutation_index : list[SimTree]) -> list[SimTree]:\n",
    "        mutated_trees = []\n",
    "        for index in mutation_index:\n",
    "            root_pointer = deepcopy(self.population[index])\n",
    "            tree = root_pointer\n",
    "            #print(root_pointer)\n",
    "            invalid_mutation = True\n",
    "            while invalid_mutation:\n",
    "                mutation_type = np.random.choice([\"add\",\"modify\",\"remove\"])\n",
    "                if mutation_type ==\"remove\":\n",
    "                    #if condition not correct we loop because we cannot remove every transformation function\n",
    "                    invalid_mutation = tree.child[0].get_depth() <= 2 or tree.child[1].get_depth() <= 2\n",
    "                else: \n",
    "                    invalid_mutation = False\n",
    "            #print(mutation_type)\n",
    "            match mutation_type:\n",
    "                case \"modify\":\n",
    "                    if np.random.choice(['root','nodes']) == 'nodes':\n",
    "                        #print(\"change node\")\n",
    "                        tree = np.random.choice(tree.child) #choose left or right branche\n",
    "                        max_depth = tree.get_depth() - 1 #minus leaf, 0 is current node, 1 is next node ... etc\n",
    "                        depth_choice = np.random.choice(max_depth,1)[0]\n",
    "                        while depth_choice > 0:\n",
    "                            tree = tree.child[0]\n",
    "                            depth_choice -=1\n",
    "                        #depth_choice should be 0\n",
    "                    #else:\n",
    "                        #print(\"change root\")\n",
    "                    tree.value = get_rd_function(len(tree.child),tree.value)\n",
    "\n",
    "                case \"add\":\n",
    "                    child_choice = np.random.choice([0,1]) #choose left or right branche\n",
    "                    tree = tree.child[child_choice]\n",
    "                    max_depth = tree.get_depth()\n",
    "                    target_depth = np.random.choice(max_depth,1)[0]\n",
    "                    #print(\"target_depth\",target_depth)\n",
    "                    #print(\"max depth\", tree.get_depth())\n",
    "                    before = 0 #we need to insert a node before the current one, i.e : a new node conected to the root\n",
    "                    after  = 1 # we keep track of depths, we stop if we find our target depth\n",
    "                    while before != target_depth and after != target_depth: #if after find target or before already is target\n",
    "                        tree = tree.child[0]\n",
    "                        after  += 1\n",
    "                    #we found our target depth\n",
    "                    #print(f\"after : {after}, before {before}\")\n",
    "                    if before == target_depth: #we need to add a node connected to the root\n",
    "                        _tmp = root_pointer.child[child_choice]\n",
    "                        root_pointer.child[child_choice] = SimTree(get_rd_function(len(_tmp.child),None), [_tmp])\n",
    "                    if after == target_depth: #we add a new node after the current\n",
    "                        _tmp = tree.child[0]\n",
    "                        tree.child[0] = SimTree(get_rd_function(len(_tmp.child),None),[_tmp])\n",
    "\n",
    "                case \"remove\":\n",
    "                    child_choice = np.random.choice([0,1]) #choose left or right branche\n",
    "                    #print(f\"child choice : {'left' if child_choice else 'right'}\")\n",
    "                    before_pointer = tree\n",
    "                    tree = tree.child[child_choice]\n",
    "                    max_depth = tree.get_depth() - 1\n",
    "                    target_depth = np.random.choice(max_depth,1)[0]\n",
    "                    while target_depth != 0:\n",
    "                        before_pointer = tree\n",
    "                        tree = tree.child[0]\n",
    "                        target_depth -=1\n",
    "                    #we found our target depth\n",
    "                    #print(f\"target_depth : {target_depth}\")\n",
    "                    #link previous child we after child\n",
    "                    before_pointer.child[0] = tree.child[0]\n",
    "\n",
    "            mutated_trees.append(root_pointer)\n",
    "        return mutated_trees\n",
    "    #if odd number, last index tuple will contain same index twice \n",
    "    def crossover(self, crossover_index : list[tuple[int,int]]) -> list[SimTree]:\n",
    "        #TODO ajouter où les nouveaux arbres\n",
    "        crossover_trees = []\n",
    "        for index_t1,index_t2 in crossover_index:\n",
    "            t1 = self.population[index_t1]\n",
    "            t2 = self.population[index_t2]\n",
    "            node_choice = [\n",
    "                [deepcopy(t1.child[0]), deepcopy(t2.child[1])],\n",
    "                [deepcopy(t2.child[0]), deepcopy(t1.child[1])],\n",
    "            ]\n",
    "            new_root_value = np.random.choice([t1.value,t2.value])\n",
    "            new_childs = [np.random.choice(2)]\n",
    "            new_tree = SimTree(new_root_value,new_childs)\n",
    "            crossover_trees.append(new_tree)\n",
    "        return crossover_trees\n",
    "                \n",
    "\n",
    "\n",
    "    def evolve_population(self):\n",
    "        #compute score for each tree\n",
    "        next_generation = []\n",
    "        self.fitness_function()\n",
    "\n",
    "        #helper functions\n",
    "        def remove_elem(pop : list,score_pop : list,index_list : list[int]) -> None:\n",
    "            for i in index_list:\n",
    "                pop.remove(i)\n",
    "                score_pop.remove(i)\n",
    "            \n",
    "        #select best individuals\n",
    "        score_index = list(np.argsort(self.population_scores))\n",
    "        score_index.reverse()\n",
    "        #elitism population\n",
    "        best_individuals = [self.population[index] for index in score_index[0:self.elitism_population_size]]\n",
    "        #remove best elem from population\n",
    "        remove_elem(self.population,self.population_scores,score_index[0:self.crossover_population_size])\n",
    "        #mutation population\n",
    "\n",
    "    #TODO crossover\n",
    "    #TODO add log to show trace of evolution for candidates\n",
    "    #TODO implement duel for elitism\n",
    "    #TODO add meta analyse de la taille des arbres et des types de fonctions utilisées"
   ]
  },
  {
   "cell_type": "code",
   "execution_count": 9,
   "metadata": {},
   "outputs": [],
   "source": [
    "#TODO check how to implement value because don't need value when instance simtree"
   ]
  },
  {
   "cell_type": "code",
   "execution_count": 88,
   "metadata": {},
   "outputs": [
    {
     "data": {
      "text/plain": [
       "0"
      ]
     },
     "execution_count": 88,
     "metadata": {},
     "output_type": "execute_result"
    }
   ],
   "source": [
    "np.random.choice(2)"
   ]
  },
  {
   "cell_type": "code",
   "execution_count": 10,
   "metadata": {},
   "outputs": [],
   "source": [
    "sim = SimGen(param_algo,param_data)\n",
    "sim.init_population()"
   ]
  },
  {
   "cell_type": "code",
   "execution_count": 54,
   "metadata": {},
   "outputs": [
    {
     "name": "stdout",
     "output_type": "stream",
     "text": [
      "1.0000000000000002\n",
      "['jaccard_similarity', ['remove_stopwords', ['lowercase', '09/03/2013']], ['remove_whitespace', ['uppercase', ['remove_stopwords', ['remove_punctuation', ['remove_stopwords', ['lowercase', '09/03/2013']]]]]]]\n",
      "1.0000000000000002\n",
      "['damerau_levenshtein_dist_similarity', ['uppercase', ['stem', '03/09/2013']], ['remove_whitespace', ['uppercase', '09/03/2013']]]\n",
      "1.0000000000000002\n",
      "['jaccard_similarity', ['flatten', ['tokenize', ['flatten', ['strip_whitespace', '09/03/2013']]]], ['flatten', ['remove_whitespace', ['remove_punctuation', ['lowercase', ['flatten', ['strip_whitespace', '09/03/2013']]]]]]]\n",
      "1.0000000000000002\n",
      "['jaro_similarity', ['remove_whitespace', ['flatten', ['remove_punctuation', ['tokenize', '09/03/2013']]]], ['flatten', ['remove_whitespace', ['flatten', ['remove_punctuation', ['tokenize', '09/03/2013']]]]]]\n",
      "1.0000000000000002\n",
      "['jaro_similarity', ['lowercase', ['strip_whitespace', ['uppercase', ['strip_whitespace', '03/09/2013']]]], ['strip_whitespace', ['tokenize', ['tokenize', ['uppercase', ['stem', ['remove_punctuation', '09/03/2013']]]]]]]\n",
      "1.0000000000000002\n",
      "['jaccard_similarity', ['flatten', ['tokenize', '09/03/2013']], ['flatten', ['tokenize', ['strip_whitespace', ['lowercase', ['remove_punctuation', ['tokenize', '09/03/2013']]]]]]]\n",
      "1.0000000000000002\n",
      "['jaccard_similarity', ['flatten', ['remove_stopwords', ['remove_stopwords', ['remove_whitespace', ['uppercase', ['lowercase', ['remove_whitespace', ['stem', ['flatten', '09/03/2013']]]]]]]]], ['lowercase', ['flatten', ['remove_stopwords', ['remove_stopwords', ['remove_whitespace', ['uppercase', ['lowercase', ['remove_whitespace', ['stem', ['flatten', '09/03/2013']]]]]]]]]]]\n",
      "1.0000000000000002\n",
      "['cos_similarity', ['tokenize', '09/03/2013'], ['remove_punctuation', ['remove_punctuation', ['tokenize', '09/03/2013']]]]\n",
      "1.0000000000000002\n",
      "['cos_similarity', ['strip_whitespace', ['stem', ['remove_punctuation', ['remove_whitespace', ['uppercase', ['tokenize', ['remove_whitespace', '09/03/2013']]]]]]], ['remove_stopwords', ['strip_whitespace', ['stem', ['remove_punctuation', ['remove_whitespace', ['uppercase', ['tokenize', ['remove_whitespace', '09/03/2013']]]]]]]]]\n",
      "1.0000000000000002\n",
      "['jaccard_similarity', ['remove_stopwords', ['lowercase', '09/03/2013']], ['remove_whitespace', ['uppercase', ['remove_stopwords', ['stem', ['remove_stopwords', ['lowercase', '09/03/2013']]]]]]]\n",
      "1.0000000000000002\n",
      "['damerau_levenshtein_dist_similarity', ['uppercase', ['stem', '03/09/2013']], ['remove_whitespace', ['uppercase', ['lowercase', '09/03/2013']]]]\n",
      "1.0000000000000002\n",
      "['jaccard_similarity', ['flatten', ['strip_whitespace', ['flatten', ['strip_whitespace', '09/03/2013']]]], ['flatten', ['remove_whitespace', ['remove_punctuation', ['lowercase', ['flatten', ['strip_whitespace', '09/03/2013']]]]]]]\n",
      "1.0000000000000002\n",
      "['jaro_similarity', ['remove_whitespace', ['flatten', ['tokenize', '09/03/2013']]], ['flatten', ['remove_whitespace', ['flatten', ['tokenize', '09/03/2013']]]]]\n",
      "1.0000000000000002\n",
      "['jaro_similarity', ['uppercase', ['lowercase', ['strip_whitespace', ['uppercase', ['strip_whitespace', '03/09/2013']]]]], ['strip_whitespace', ['tokenize', ['tokenize', ['uppercase', ['stem', ['remove_punctuation', '09/03/2013']]]]]]]\n",
      "1.0000000000000002\n",
      "['jaro_similarity', ['flatten', ['tokenize', '09/03/2013']], ['flatten', ['tokenize', ['strip_whitespace', ['lowercase', ['remove_punctuation', ['tokenize', '09/03/2013']]]]]]]\n",
      "1.0000000000000002\n",
      "['jaccard_similarity', ['flatten', ['remove_stopwords', ['remove_stopwords', ['remove_whitespace', ['uppercase', ['lowercase', ['remove_whitespace', ['stem', ['flatten', '09/03/2013']]]]]]]]], ['lowercase', ['flatten', ['remove_stopwords', ['remove_stopwords', ['remove_whitespace', ['uppercase', ['lowercase', ['remove_whitespace', ['stem', ['flatten', '09/03/2013']]]]]]]]]]]\n",
      "1.0000000000000002\n",
      "['cos_similarity', ['tokenize', ['remove_whitespace', '09/03/2013']], ['remove_punctuation', ['remove_punctuation', ['tokenize', ['remove_whitespace', '09/03/2013']]]]]\n",
      "1.0000000000000002\n",
      "['jaccard_similarity', ['strip_whitespace', ['stem', ['remove_punctuation', ['remove_whitespace', ['uppercase', ['tokenize', ['remove_whitespace', '09/03/2013']]]]]]], ['remove_stopwords', ['strip_whitespace', ['stem', ['remove_punctuation', ['remove_whitespace', ['uppercase', ['tokenize', ['remove_whitespace', '09/03/2013']]]]]]]]]\n"
     ]
    }
   ],
   "source": [
    "for i,v in enumerate(sim.population_scores):\n",
    "    if v > 1:\n",
    "        print(v)\n",
    "        print(sim.population[i])\n",
    "\n",
    "sim.mutation()\n",
    "for i,v in enumerate(sim.population_scores):\n",
    "    if v > 1:\n",
    "        print(v)\n",
    "        print(sim.population[i])\n"
   ]
  },
  {
   "cell_type": "code",
   "execution_count": 12,
   "metadata": {},
   "outputs": [],
   "source": [
    "sim.fitness_function()\n"
   ]
  },
  {
   "cell_type": "code",
   "execution_count": 13,
   "metadata": {},
   "outputs": [],
   "source": [
    "print_pop = list(map(lambda x: str(x),sim.population))"
   ]
  },
  {
   "cell_type": "code",
   "execution_count": 74,
   "metadata": {},
   "outputs": [
    {
     "data": {
      "text/plain": [
       "<__main__.SimTree at 0x230d862fb90>"
      ]
     },
     "execution_count": 74,
     "metadata": {},
     "output_type": "execute_result"
    }
   ],
   "source": [
    "a = [ag1,[g,\"a\"],[g,[g,[g,[\"b\"]]]]]\n",
    "b = [ag1,[f,[g,\"b\"]],[g,[g,[g,[\"b\"]]]]]\n",
    "tree = tree_from_list(a)\n",
    "tr = tree_from_list(b)\n",
    "np.random.choice([tree,tr])"
   ]
  },
  {
   "cell_type": "code",
   "execution_count": 59,
   "metadata": {},
   "outputs": [
    {
     "name": "stdout",
     "output_type": "stream",
     "text": [
      "['ag1', ['g', 'a'], ['g', ['g', ['g', 'b']]]]\n",
      "aK-bKKK\n",
      "['ag1', ['g', 'a'], ['g', ['g', ['g', 'b']]]]\n",
      "5\n",
      "False\n",
      "modify\n"
     ]
    }
   ],
   "source": [
    "a = [ag1,[g,\"a\"],[g,[g,[g,[\"b\"]]]]]\n",
    "b = [ag1,[f,[g,\"b\"]],[g,[g,[g,[\"b\"]]]]]\n",
    "tree = tree_from_list(a)\n",
    "tr = tree_from_list(b)\n",
    "print(tree)\n",
    "print(tree.compute())\n",
    "print(tree)\n",
    "print(tree.get_depth())\n",
    "print(tree ==  tr)\n",
    "\n",
    "invalid_mutation = True\n",
    "while invalid_mutation:\n",
    "    mutation_type = np.random.choice([\"add\",\"modify\",\"remove\"])\n",
    "    print(mutation_type)\n",
    "    if mutation_type ==\"remove\":\n",
    "        #if condition not correct we loop because we cannot remove every transformation function\n",
    "        invalid_mutation = tree.child[0].get_depth() <= 2 or tree.child[1].get_depth() <= 2\n",
    "    else:\n",
    "        invalid_mutation = False"
   ]
  },
  {
   "cell_type": "code",
   "execution_count": 15,
   "metadata": {},
   "outputs": [
    {
     "name": "stdout",
     "output_type": "stream",
     "text": [
      "['ag1', ['g', 'b'], ['g', ['g', ['g', 'b']]]]\n",
      "2\n"
     ]
    }
   ],
   "source": [
    "b = [ag1,[g,\"b\"],[g,[g,[g,[\"b\"]]]]]\n",
    "tree = tree_from_list(b)\n",
    "print(tree)\n",
    "print(tree.child[0].get_depth())"
   ]
  },
  {
   "cell_type": "code",
   "execution_count": 63,
   "metadata": {},
   "outputs": [],
   "source": [
    "from copy import deepcopy"
   ]
  },
  {
   "cell_type": "code",
   "execution_count": 82,
   "metadata": {},
   "outputs": [
    {
     "name": "stdout",
     "output_type": "stream",
     "text": [
      "new tree : ['ag1', ['f', ['g', ['g', '']]], ['g', ['g', '']]]\n",
      "tree : ['ag1', ['f', ['g', ['g', 'b']]], ['g', ['g', 'c']]]\n",
      "new tree : ['ag1', ['f', ['g', ['g', '']]], ['g', ['g', '']]]\n",
      "5 4 3\n",
      "['ag1', ['remove_whitespace', ['f', ['g', ['g', 'b']]]], ['g', ['g', 'c']]]\n",
      "new tree : ['ag1', ['f', ['g', ['g', '']]], ['g', ['g', '']]]\n"
     ]
    }
   ],
   "source": [
    "a = [ag1,[f,[g,[g,[\"\"]]]],[g,[g,[\"\"]]]]\n",
    "b = [ag1,[g,\"b\"],[g,[g,[g,[\"b\"]]]]]\n",
    "treeb = tree_from_list(b)\n",
    "tree = tree_from_list(a)\n",
    "new_tree = SimTree(np.random.choice([treeb.value,tree.value]),\n",
    "                   [deepcopy(np.random.choice([treeb.child[0],tree.child[0]])),\n",
    "                    deepcopy(np.random.choice([treeb.child[1],tree.child[1]]))\n",
    "\n",
    "tab = [deepcopy(tree.child[0]),deepcopy(treeb.child[])])\n",
    "np.random.choice(\n",
    "print(f\"new tree : {new_tree}\")\n",
    "tree.set_leafs_value([\"b\",\"c\"])\n",
    "print(f\"tree : {tree}\")\n",
    "print(f\"new tree : {new_tree}\")\n",
    "\n",
    "print(tree.get_depth(), tree.child[0].get_depth(),tree.child[1].get_depth())\n",
    "_tmp = tree.child[0]\n",
    "tree.child[0] = SimTree(get_rd_function(1,None),[_tmp])\n",
    "print(tree)\n",
    "print(f\"new tree : {new_tree}\")"
   ]
  },
  {
   "cell_type": "code",
   "execution_count": 17,
   "metadata": {},
   "outputs": [
    {
     "name": "stdout",
     "output_type": "stream",
     "text": [
      "['ag1', ['f', ['g', '']], ['g', ['g', '']]]\n",
      "modify\n",
      "change root\n",
      "['cos_similarity', ['f', ['g', '']], ['g', ['g', '']]]\n"
     ]
    }
   ],
   "source": [
    "a = [ag1,[f,[g,[\"\"]]],[g,[g,[\"\"]]]]\n",
    "root_pointer = tree_from_list(a) \n",
    "tree = root_pointer\n",
    "print(root_pointer)\n",
    "mutation_type = np.random.choice([\"add\",\"modify\",\"remove\"])\n",
    "print(mutation_type)\n",
    "match mutation_type:\n",
    "    case \"modify\":\n",
    "        if np.random.choice(['root','nodes']) == 'nodes':\n",
    "            print(\"change node\")\n",
    "            tree = np.random.choice(tree.child) #choose left or right branche\n",
    "            max_depth = tree.get_depth() - 1 #minus leaf, 0 is current node, 1 is next node ... etc\n",
    "            depth_choice = np.random.choice(max_depth,1)[0]\n",
    "            while depth_choice > 0:\n",
    "                tree = tree.child[0]\n",
    "                depth_choice -=1\n",
    "            #depth_choice should be 0\n",
    "        else:\n",
    "            print(\"change root\")\n",
    "        tree.value = get_rd_function(len(tree.child),tree.value)\n",
    "\n",
    "    case \"add\":\n",
    "        child_choice = np.random.choice([0,1]) #choose left or right branche\n",
    "        tree = tree.child[child_choice]\n",
    "        max_depth = tree.get_depth()\n",
    "        target_depth = np.random.choice(max_depth,1)[0]\n",
    "        #print(\"target_depth\",target_depth)\n",
    "        #print(\"max depth\", tree.get_depth())\n",
    "        before = 0 #we need to insert a node before the current one, i.e : a new node conected to the root\n",
    "        after  = 1 # we keep track of depths, we stop if we find our target depth\n",
    "        while before != target_depth and after != target_depth: #if after find target or before already is target\n",
    "            tree = tree.child[0]\n",
    "            after  += 1\n",
    "        #we found our target depth\n",
    "        #print(f\"after : {after}, before {before}\")\n",
    "        if before == target_depth: #we need to add a node connected to the root\n",
    "            _tmp = root_pointer.child[child_choice]\n",
    "            root_pointer.child[child_choice] = SimTree(get_rd_function(len(_tmp.child),None), [_tmp])\n",
    "        if after == target_depth: #we add a new node after the current\n",
    "            _tmp = tree.child[0]\n",
    "            tree.child[0] = SimTree(get_rd_function(len(_tmp.child),None),[_tmp])\n",
    "\n",
    "    case \"remove\":\n",
    "        child_choice = np.random.choice([0,1]) #choose left or right branche\n",
    "        print(f\"child choice : {'left' if child_choice else 'right'}\")\n",
    "        before_pointer = tree\n",
    "        tree = tree.child[child_choice]\n",
    "        max_depth = tree.get_depth() - 1\n",
    "        target_depth = np.random.choice(max_depth,1)[0]\n",
    "        while target_depth != 0:\n",
    "            before_pointer = tree\n",
    "            tree = tree.child[0]\n",
    "            target_depth -=1\n",
    "        #we found our target depth\n",
    "        print(f\"target_depth : {target_depth}\")\n",
    "        #link previous child we after child\n",
    "        before_pointer.child[0] = tree.child[0]\n",
    "        \n",
    "print(root_pointer)\n"
   ]
  },
  {
   "cell_type": "code",
   "execution_count": 18,
   "metadata": {},
   "outputs": [
    {
     "data": {
      "text/plain": [
       "array([1])"
      ]
     },
     "execution_count": 18,
     "metadata": {},
     "output_type": "execute_result"
    }
   ],
   "source": [
    "np.random.choice([0,1],1)"
   ]
  },
  {
   "cell_type": "code",
   "execution_count": 19,
   "metadata": {},
   "outputs": [
    {
     "data": {
      "text/plain": [
       "4"
      ]
     },
     "execution_count": 19,
     "metadata": {},
     "output_type": "execute_result"
    }
   ],
   "source": [
    "tree.get_depth()"
   ]
  },
  {
   "cell_type": "code",
   "execution_count": 20,
   "metadata": {},
   "outputs": [
    {
     "data": {
      "text/plain": [
       "'root'"
      ]
     },
     "execution_count": 20,
     "metadata": {},
     "output_type": "execute_result"
    }
   ],
   "source": [
    "np.random.choice(['root','nodes']) "
   ]
  },
  {
   "cell_type": "code",
   "execution_count": 21,
   "metadata": {},
   "outputs": [],
   "source": [
    "a = [ag1,[f,[g,[\"\"]]],[g,[g,[\"\"]]]]\n",
    "action = [\"add\",\"modify\",\"remove\"]\n",
    "\n",
    "match np.random.choice(action):\n",
    "    case \"add\":\n",
    "        choice = np.random.choice([\"left\",\"right\"])\n",
    "        \n",
    "        pass\n",
    "    case \"modify\":\n",
    "        pass\n",
    "    case \"remove\":\n",
    "        pass"
   ]
  },
  {
   "cell_type": "code",
   "execution_count": 22,
   "metadata": {},
   "outputs": [
    {
     "data": {
      "text/plain": [
       "[3, 9, 11, 17]"
      ]
     },
     "execution_count": 22,
     "metadata": {},
     "output_type": "execute_result"
    }
   ],
   "source": [
    "k = [(1,2),(4,5),(3,8),(8,9)]\n",
    "compute_score = lambda elem:(x:=[elem[0],y:=[elem[1]]], x[0]+y[0])[-1]\n",
    "list(map(compute_score,k))\n",
    "\n"
   ]
  }
 ],
 "metadata": {
  "kernelspec": {
   "display_name": "Python 3",
   "language": "python",
   "name": "python3"
  },
  "language_info": {
   "codemirror_mode": {
    "name": "ipython",
    "version": 3
   },
   "file_extension": ".py",
   "mimetype": "text/x-python",
   "name": "python",
   "nbconvert_exporter": "python",
   "pygments_lexer": "ipython3",
   "version": "3.11.0"
  },
  "orig_nbformat": 4
 },
 "nbformat": 4,
 "nbformat_minor": 2
}
