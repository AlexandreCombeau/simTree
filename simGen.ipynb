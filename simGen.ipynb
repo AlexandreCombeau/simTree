{
 "cells": [
  {
   "cell_type": "code",
   "execution_count": 3,
   "metadata": {},
   "outputs": [],
   "source": [
    "import random\n",
    "import numpy as np \n",
    "from functools import reduce \n",
    "\n"
   ]
  },
  {
   "cell_type": "code",
   "execution_count": 4,
   "metadata": {},
   "outputs": [],
   "source": [
    "###---------------------------------------------------------------------###\n",
    "###-------------------------------------> Helper functions\n",
    "\n",
    "def f(a : str) -> str:\n",
    "    return a+\"o\"\n",
    "def g(a : str) -> str:\n",
    "    return a+\"K\"\n",
    "def h(a : str) -> str:\n",
    "    return a+a\n",
    "def ag1(a : str, b : str) -> str:\n",
    "    return a+\"-\"+b\n",
    "def ag2(a : str, b : str) -> str:\n",
    "    return b+\"-\"+a\n",
    "\n",
    "\n",
    "\n",
    " "
   ]
  },
  {
   "cell_type": "code",
   "execution_count": 5,
   "metadata": {},
   "outputs": [],
   "source": [
    "from typing import Callable\n",
    "import random\n",
    "\n",
    "rootType = Callable[[str,str], float]\n",
    "nodeType = Callable[[str], str]\n",
    "leafType = str\n",
    "\n",
    "class SimTree():\n",
    "\n",
    "    def __init__(self, value : leafType | nodeType | rootType = None, child : list = None):\n",
    "        self.value = value \n",
    "        self.child = child or []\n",
    "        self.isRoot = lambda x: True if(len(x.child) == 2) else False\n",
    "        self.isNode = lambda x: True if(len(x.child) == 1) else False\n",
    "        self.isLeaf = lambda x: True if(len(x.child) == 0) else False\n",
    "        \n",
    "    def __str__(self):\n",
    "        if self.isRoot(self): #root \n",
    "            tree_list = str([self.value.__name__,\n",
    "                         self.child[0].__str__(),\n",
    "                         self.child[1].__str__()])\n",
    "        elif self.isNode(self): #nodes\n",
    "            tree_list = [self.value.__name__,self.child[0].__str__()]\n",
    "        else: #leaf\n",
    "            tree_list = self.value\n",
    "        return tree_list  \n",
    "          \n",
    "    def return_tree_asList(self):\n",
    "        if self.isRoot(self): #root \n",
    "            tree_list = [self.value,\n",
    "                         self.child[0].return_tree_asList(),\n",
    "                         self.child[1].return_tree_asList()]\n",
    "        elif self.isNode(self): #nodes\n",
    "            tree_list = [self.value,self.child[0].return_tree_asList()]\n",
    "        else: #leaf\n",
    "            tree_list = self.value \n",
    "        return tree_list\n",
    "      \n",
    "    def compute(self):\n",
    "        if self.isRoot(self): #root\n",
    "            return self.value(self.child[0].compute(),\n",
    "                              self.child[1].compute())\n",
    "        elif self.isNode(self): #nodes\n",
    "            return self.value(self.child[0].compute())\n",
    "        else: #leaf\n",
    "            return self.value\n",
    "    \n",
    "    def mutate(self, get_rd_function, probability : float):\n",
    "        if not self.isLeaf(self):\n",
    "            if random.random() < probability:\n",
    "                self.value = get_rd_function(len(self.child),self.value)\n",
    "            else:\n",
    "                for c in self.child:\n",
    "                    c.mutate(get_rd_function,probability)\n",
    "\n",
    "    def set_leaf_value(self,value):\n",
    "        if self.isNode(self):\n",
    "            self.child[0].set_leaf_value(value)\n",
    "        if self.isLeaf(self):\n",
    "            self.value = value\n",
    "\n",
    "    def set_leafs_value(self,values):\n",
    "        x,y = values\n",
    "        self.child[0].set_leaf_value(x)\n",
    "        self.child[1].set_leaf_value(y)\n",
    "\n",
    "    def get_Similarity_function(self):\n",
    "        if self.isRoot(self): #root\n",
    "            return self.value\n",
    "        \n",
    "    def get_transformations_functions(self):\n",
    "        if self.isRoot(self) == 2: #root\n",
    "            return flatten([self.child[0].get_transformations_functions,\n",
    "                            self.child[1].get_transformations_functions])\n",
    "\n",
    "        elif self.isNode(self) == 1: #nodes\n",
    "            return self.value\n",
    "\n",
    "    def find_depth(self,x):\n",
    "        x+=1\n",
    "        if self.isRoot(self):\n",
    "            return max(self.child[0].find_depth(x), self.child[1].find_depth(x))\n",
    "        if self.isNode(self):\n",
    "            return self.child[0].find_depth(x)\n",
    "        if self.isLeaf(self):\n",
    "            return x    \n",
    "\n",
    "    def get_depth(self):\n",
    "        return self.find_depth(0)    \n",
    "\n",
    "\n",
    "def tree_from_list(tree_list : list) -> SimTree:\n",
    "    if len(tree_list) == 3: #root\n",
    "        value = tree_list[0]\n",
    "        left_child = tree_list[1]\n",
    "        right_child = tree_list[2]\n",
    "        return SimTree(value,\n",
    "                [tree_from_list(left_child),\n",
    "                tree_from_list(right_child)])\n",
    "    elif len(tree_list) == 2: #nodes        \n",
    "        value = tree_list[0]\n",
    "        child = tree_list[1]\n",
    "        return SimTree(value,[tree_from_list(child)])\n",
    "    else: #leaf\n",
    "        value = tree_list[0]\n",
    "        return SimTree(value,[])"
   ]
  },
  {
   "cell_type": "code",
   "execution_count": 6,
   "metadata": {},
   "outputs": [
    {
     "name": "stderr",
     "output_type": "stream",
     "text": [
      "[nltk_data] Downloading package punkt to\n",
      "[nltk_data]     C:\\Users\\Combal\\AppData\\Roaming\\nltk_data...\n",
      "[nltk_data]   Package punkt is already up-to-date!\n",
      "[nltk_data] Downloading package stopwords to\n",
      "[nltk_data]     C:\\Users\\Combal\\AppData\\Roaming\\nltk_data...\n",
      "[nltk_data]   Package stopwords is already up-to-date!\n",
      "[nltk_data] Downloading package wordnet to\n",
      "[nltk_data]     C:\\Users\\Combal\\AppData\\Roaming\\nltk_data...\n",
      "[nltk_data]   Package wordnet is already up-to-date!\n"
     ]
    }
   ],
   "source": [
    "from similarity import *\n",
    "from transformation import *"
   ]
  },
  {
   "cell_type": "code",
   "execution_count": 7,
   "metadata": {},
   "outputs": [],
   "source": [
    "TRANSFORMATION_FUNCTIONS = transformation_functions()           \n",
    "SIMILARITY_FUNCTIONS = similarity_functions()\n",
    "           \n",
    "flatten = lambda l : [item for sublist in l for item in sublist]\n",
    "def get_rd_function(nb_child,value):\n",
    "    if nb_child == 2:\n",
    "        function_list = SIMILARITY_FUNCTIONS\n",
    "    else:\n",
    "        function_list = TRANSFORMATION_FUNCTIONS\n",
    "    flag = True\n",
    "    while flag:\n",
    "        new_value = random.choice(function_list)\n",
    "        if new_value != value:\n",
    "            flag = False\n",
    "    return new_value"
   ]
  },
  {
   "cell_type": "code",
   "execution_count": null,
   "metadata": {},
   "outputs": [],
   "source": []
  },
  {
   "cell_type": "code",
   "execution_count": 8,
   "metadata": {},
   "outputs": [],
   "source": [
    "from datetime import datetime\n",
    "\n",
    "dates = [\n",
    "    '2006-10-28', '2005-11-15', '1936-11-07', '1955-09-08', '1936-12-07',\n",
    "    '1937-04-12', '1974-12-02', '1972-06-30', '1955-07-06', '2006-09-09',\n",
    "    '2007-11-06', '2007-11-13', '2009-09-29', '2014-03-25', '2001-12-04',\n",
    "    '2004-09-06', '2004-11-10', '2004-11-23', '2004-12-09', '2005-09-27',\n",
    "    '2011-09-27', '2000-09-12', '1999-09-14', '2003-11-11', '2004-02-05',\n",
    "    '2006-04-04', '2005-11-16', '2005-11-24', '2008-09-23', '2010-10-19',\n",
    "    '2005-09-13', '2005-09-14', '2006-03-07', '2009-09-08', '2011-11-01',\n",
    "    '2003-06-03', '1969-02-10', '2017-04-28', '2022-10-24', '2004-05-10',\n",
    "    '2018-03-14', '2002-04-11', '2013-03-09'\n",
    "]\n",
    "\n",
    "american_dates = []\n",
    "european_dates = []\n",
    "\n",
    "for date_str in dates:\n",
    "    date_obj = datetime.strptime(date_str, '%Y-%m-%d')\n",
    "    american_date = date_obj.strftime('%m/%d/%Y')\n",
    "    american_dates.append(american_date)\n",
    "    european_date = date_obj.strftime('%d/%m/%Y')\n",
    "    european_dates.append(european_date)\n",
    "\n",
    "# Print the converted dates\n",
    "values = []\n",
    "for a,e in zip(american_dates,european_dates):\n",
    "    #print(a+\" - \"+e)\n",
    "    values.append((a,e))\n"
   ]
  },
  {
   "cell_type": "code",
   "execution_count": 9,
   "metadata": {},
   "outputs": [],
   "source": [
    "param_algo = {\n",
    "    \"population_size\" : 100,\n",
    "    \"nb_generation\"   : 20,\n",
    "    \"proba_mutation\"  : 0.3,\n",
    "    \"proba_crossover\" : 0.2,\n",
    "    \"proba_random\"    : 0.1\n",
    "    #\"proba_ellitism\"  : 0.5,\n",
    "}\n",
    "\n",
    "param_data = {\n",
    "    \"tree_max_depth\" : 8,\n",
    "    \"similarity_functions\" : similarity_functions(),\n",
    "    \"transformation_functions\" : transformation_functions(),\n",
    "    \"values\" : values\n",
    "}\n",
    "\n"
   ]
  },
  {
   "cell_type": "code",
   "execution_count": 8,
   "metadata": {},
   "outputs": [],
   "source": [
    "class SimGen():\n",
    "    def __init__(self, param_algo : dict , param_data : dict):\n",
    "        #main param\n",
    "        self.population_size : int = param_algo[\"population_size\"]\n",
    "        self.nb_generation   : int = param_algo[\"nb_generation\"]\n",
    "        \n",
    "        #evolution param\n",
    "        self.proba_mutation  : float = param_algo[\"proba_mutation\"]\n",
    "        self.proba_crossover : float = param_algo[\"proba_crossover\"]\n",
    "        self.proba_random_tree : float = param_algo[\"proba_random\"]\n",
    "        self.mutation_population_size    : int = round(self.proba_mutation*self.population_size)\n",
    "        self.crossover_population_size   : int = round(self.proba_crossover*self.population_size)\n",
    "        self.random_tree_population_size : int = round(self.proba_random_tree*self.population_size)\n",
    "        self.elitism_population_size     : int = self.population - (\n",
    "            self.mutation_population_size+\n",
    "            self.crossover_population_size+\n",
    "            self.random_tree_population_size\n",
    "        )\n",
    "        #self.proba_ellitism  : float = param_algo[\"proba_ellitism\"] #proba to keep best elem\n",
    "\n",
    "        #candidate param\n",
    "        self.tree_max_depth : int = param_data[\"tree_max_depth\"]\n",
    "\n",
    "        #init param\n",
    "        self.population : list[SimTree] = [] #contain every candidate solution\n",
    "        self.population_scores : list[int] = [0]*len(self.population) #every candidate has a score computed at the end of an generation\n",
    "        self.similarity_functions : list[rootType] = param_data[\"similarity_functions\"] \n",
    "        self.transformation_functions : list[nodeType] = param_data[\"transformation_functions\"]\n",
    "\n",
    "        #values param\n",
    "        self.values : list[tuple[str,str]] = param_data[\"values\"] #[(x1,y1),(x2,y2)...,(xn,yn)] such as (ei,p,xi) <=> (e'i,p',yi)\n",
    "        \n",
    "\n",
    "    def generate_random_tree(self):\n",
    "        nb_transformation = random.randint(1,self.tree_max_depth)\n",
    "        tf_left = np.random.choice(self.transformation_functions,nb_transformation,replace=False)\n",
    "        tf_left = np.append(tf_left,[\"a\"]) #TODO check comment mieux gerer le lift\n",
    "        tf_right = np.random.choice(self.transformation_functions,nb_transformation,replace=False)\n",
    "        tf_right = np.append(tf_right,[\"a\"])\n",
    "        sf = np.random.choice(self.similarity_functions,1)[0]\n",
    "        def nest_list(lst):\n",
    "            #format our list of function : [f,g,h,...]\n",
    "            #into : [f,[g,[h,[...]]]]\n",
    "            if len(lst) == 1:\n",
    "                return [lst[0]]\n",
    "            else:\n",
    "                return [lst[0], nest_list(lst[1:])]\n",
    "\n",
    "        tree_list = [sf,nest_list(tf_left),nest_list(tf_right)]\n",
    "        tree = tree_from_list(tree_list)\n",
    "        return tree\n",
    "\n",
    "    def init_population(self):\n",
    "        \"\"\"\n",
    "            Generate a population of size n with random tree\n",
    "        \n",
    "        \"\"\"\n",
    "        #check variance and stuff meta data TODO\n",
    "        for _ in range(self.population_size):\n",
    "            self.population.append(self.generate_random_tree())\n",
    "    \n",
    "            \n",
    "    def fitness_function(self):\n",
    "        '''\n",
    "            Compute the score of a tree on every value pair\n",
    "            Keep the mean as a score\n",
    "        '''    \n",
    "         \n",
    "        for index,candidate in enumerate(self.population):\n",
    "            for values in self.values:\n",
    "                #compute score for each value pair for one tree\n",
    "                candidate.set_leafs_value(values)\n",
    "                score = candidate.compute()\n",
    "                self.population_scores[index] += score\n",
    "            self.population_scores[index] /= len(self.values)\n",
    "            \n",
    "    def evolve_population(self):\n",
    "        #compute score for each tree\n",
    "        self.fitness_function()\n",
    "\n",
    "        #helper functions\n",
    "        def remove_elem(pop : list,score_pop : list,index_list : list[int]) -> None:\n",
    "            for i in index_list:\n",
    "                pop.remove(i)\n",
    "                score_pop.remove(i)\n",
    "            \n",
    "        #select best individuals\n",
    "        score_index = list(np.argsort(self.population_scores))\n",
    "        score_index.reverse()\n",
    "        #elitism population\n",
    "        best_individuals = [self.population[index] for index in score_index[0:self.elitism_population_size]]\n",
    "        #remove best elem from population\n",
    "        remove_elem(self.population,self.population_scores,score_index[0:self.crossover_population_size])\n",
    "        #mutation population\n",
    "\n",
    "    #TODO add or remove for mutation\n",
    "    #TODO crossover"
   ]
  },
  {
   "cell_type": "code",
   "execution_count": 9,
   "metadata": {},
   "outputs": [],
   "source": [
    "#TODO check how to implement value because don't need value when instance simtree"
   ]
  },
  {
   "cell_type": "code",
   "execution_count": 41,
   "metadata": {},
   "outputs": [
    {
     "data": {
      "text/plain": [
       "[1, 81, 78, 21, 85, 31, 4, 513, 8, 1]"
      ]
     },
     "execution_count": 41,
     "metadata": {},
     "output_type": "execute_result"
    }
   ],
   "source": [
    "foo = [1,81,0,78,21,85,31,4,513,8,1]\n",
    "a = list(np.argsort(foo))\n",
    "a.reverse()\n",
    "nb = 5\n",
    "a[0:5]\n",
    "bb = [foo[i] for i in a[0:5]]\n",
    "bb\n",
    "foo.remove(0)\n",
    "foo"
   ]
  },
  {
   "cell_type": "code",
   "execution_count": 10,
   "metadata": {},
   "outputs": [],
   "source": [
    "sim = SimGen(param_algo,param_data)\n",
    "sim.init_population()\n",
    "sim.fitness_function()"
   ]
  },
  {
   "cell_type": "code",
   "execution_count": 11,
   "metadata": {},
   "outputs": [],
   "source": [
    "print_pop = list(map(lambda x: str(x),sim.population))"
   ]
  },
  {
   "cell_type": "code",
   "execution_count": 10,
   "metadata": {},
   "outputs": [
    {
     "name": "stdout",
     "output_type": "stream",
     "text": [
      "aKo-bKKK\n",
      "['ag1', ['f', ['g', 'a']], ['g', ['g', ['g', 'b']]]]\n",
      "0.5277777777777778\n",
      "['jarowinkler_similarity', ['f', ['g', 'a']], ['g', ['g', ['g', 'b']]]]\n",
      "5\n"
     ]
    }
   ],
   "source": [
    "a = [ag1,[f,[g,\"a\"]],[g,[g,[g,[\"b\"]]]]]\n",
    "tree = tree_from_list(a)\n",
    "print(tree.compute())\n",
    "print(tree)\n",
    "tree.mutate(get_rd_function,0.4)\n",
    "print(tree.compute())\n",
    "print(tree)\n",
    "print(tree.get_depth())"
   ]
  },
  {
   "cell_type": "code",
   "execution_count": 14,
   "metadata": {},
   "outputs": [
    {
     "name": "stdout",
     "output_type": "stream",
     "text": [
      "['ag1', ['f', ['g', '']], ['g', ['g', '']]]\n"
     ]
    },
    {
     "ename": "ValueError",
     "evalue": "setting an array element with a sequence. The requested array has an inhomogeneous shape after 1 dimensions. The detected shape was (3,) + inhomogeneous part.",
     "output_type": "error",
     "traceback": [
      "\u001b[1;31m---------------------------------------------------------------------------\u001b[0m",
      "\u001b[1;31mValueError\u001b[0m                                Traceback (most recent call last)",
      "Cell \u001b[1;32mIn[14], line 6\u001b[0m\n\u001b[0;32m      4\u001b[0m tree\u001b[39m.\u001b[39mset_leafs_value([\u001b[39m\"\u001b[39m\u001b[39mb\u001b[39m\u001b[39m\"\u001b[39m,\u001b[39m\"\u001b[39m\u001b[39mc\u001b[39m\u001b[39m\"\u001b[39m])\n\u001b[0;32m      5\u001b[0m \u001b[39mlist\u001b[39m \u001b[39m=\u001b[39m tree\u001b[39m.\u001b[39mreturn_tree_asList()\n\u001b[1;32m----> 6\u001b[0m np\u001b[39m.\u001b[39;49mrandom\u001b[39m.\u001b[39;49mchoice(\u001b[39m1\u001b[39;49m,\u001b[39mlist\u001b[39;49m)\n",
      "File \u001b[1;32mmtrand.pyx:981\u001b[0m, in \u001b[0;36mnumpy.random.mtrand.RandomState.choice\u001b[1;34m()\u001b[0m\n",
      "File \u001b[1;32mc:\\Python311\\Lib\\site-packages\\numpy\\core\\fromnumeric.py:3100\u001b[0m, in \u001b[0;36mprod\u001b[1;34m(a, axis, dtype, out, keepdims, initial, where)\u001b[0m\n\u001b[0;32m   2979\u001b[0m \u001b[39m@array_function_dispatch\u001b[39m(_prod_dispatcher)\n\u001b[0;32m   2980\u001b[0m \u001b[39mdef\u001b[39;00m \u001b[39mprod\u001b[39m(a, axis\u001b[39m=\u001b[39m\u001b[39mNone\u001b[39;00m, dtype\u001b[39m=\u001b[39m\u001b[39mNone\u001b[39;00m, out\u001b[39m=\u001b[39m\u001b[39mNone\u001b[39;00m, keepdims\u001b[39m=\u001b[39mnp\u001b[39m.\u001b[39m_NoValue,\n\u001b[0;32m   2981\u001b[0m          initial\u001b[39m=\u001b[39mnp\u001b[39m.\u001b[39m_NoValue, where\u001b[39m=\u001b[39mnp\u001b[39m.\u001b[39m_NoValue):\n\u001b[0;32m   2982\u001b[0m \u001b[39m    \u001b[39m\u001b[39m\"\"\"\u001b[39;00m\n\u001b[0;32m   2983\u001b[0m \u001b[39m    Return the product of array elements over a given axis.\u001b[39;00m\n\u001b[0;32m   2984\u001b[0m \n\u001b[1;32m   (...)\u001b[0m\n\u001b[0;32m   3098\u001b[0m \u001b[39m    10\u001b[39;00m\n\u001b[0;32m   3099\u001b[0m \u001b[39m    \"\"\"\u001b[39;00m\n\u001b[1;32m-> 3100\u001b[0m     \u001b[39mreturn\u001b[39;00m _wrapreduction(a, np\u001b[39m.\u001b[39;49mmultiply, \u001b[39m'\u001b[39;49m\u001b[39mprod\u001b[39;49m\u001b[39m'\u001b[39;49m, axis, dtype, out,\n\u001b[0;32m   3101\u001b[0m                           keepdims\u001b[39m=\u001b[39;49mkeepdims, initial\u001b[39m=\u001b[39;49minitial, where\u001b[39m=\u001b[39;49mwhere)\n",
      "File \u001b[1;32mc:\\Python311\\Lib\\site-packages\\numpy\\core\\fromnumeric.py:88\u001b[0m, in \u001b[0;36m_wrapreduction\u001b[1;34m(obj, ufunc, method, axis, dtype, out, **kwargs)\u001b[0m\n\u001b[0;32m     85\u001b[0m         \u001b[39melse\u001b[39;00m:\n\u001b[0;32m     86\u001b[0m             \u001b[39mreturn\u001b[39;00m reduction(axis\u001b[39m=\u001b[39maxis, out\u001b[39m=\u001b[39mout, \u001b[39m*\u001b[39m\u001b[39m*\u001b[39mpasskwargs)\n\u001b[1;32m---> 88\u001b[0m \u001b[39mreturn\u001b[39;00m ufunc\u001b[39m.\u001b[39;49mreduce(obj, axis, dtype, out, \u001b[39m*\u001b[39;49m\u001b[39m*\u001b[39;49mpasskwargs)\n",
      "\u001b[1;31mValueError\u001b[0m: setting an array element with a sequence. The requested array has an inhomogeneous shape after 1 dimensions. The detected shape was (3,) + inhomogeneous part."
     ]
    }
   ],
   "source": [
    "a = [ag1,[f,[g,[\"\"]]],[g,[g,[\"\"]]]]\n",
    "tree = tree_from_list(a)\n",
    "print(tree)\n",
    "tree.set_leafs_value([\"b\",\"c\"])\n",
    "list = tree.return_tree_asList()\n",
    "np.random.choice(1,list)"
   ]
  },
  {
   "cell_type": "code",
   "execution_count": 37,
   "metadata": {},
   "outputs": [
    {
     "ename": "NameError",
     "evalue": "name 'v' is not defined",
     "output_type": "error",
     "traceback": [
      "\u001b[1;31m---------------------------------------------------------------------------\u001b[0m",
      "\u001b[1;31mNameError\u001b[0m                                 Traceback (most recent call last)",
      "Cell \u001b[1;32mIn[37], line 2\u001b[0m\n\u001b[0;32m      1\u001b[0m a \u001b[39m=\u001b[39m [\u001b[39m\"\u001b[39m\u001b[39m1\u001b[39m\u001b[39m\"\u001b[39m,[\u001b[39m\"\u001b[39m\u001b[39m2\u001b[39m\u001b[39m\"\u001b[39m,[\u001b[39m\"\u001b[39m\u001b[39m3\u001b[39m\u001b[39m\"\u001b[39m,[\u001b[39m\"\u001b[39m\u001b[39m4\u001b[39m\u001b[39m\"\u001b[39m]]]]\n\u001b[1;32m----> 2\u001b[0m SimTree(v,SimTree(v1,[]))\n",
      "\u001b[1;31mNameError\u001b[0m: name 'v' is not defined"
     ]
    }
   ],
   "source": [
    "a = [\"1\",[\"2\",[\"3\",[\"4\"]]]]\n",
    "SimTree(v,c)\n",
    "SimTree(v,SimTree(d,c))"
   ]
  },
  {
   "cell_type": "code",
   "execution_count": 48,
   "metadata": {},
   "outputs": [
    {
     "data": {
      "text/plain": [
       "<function __main__.g(a: str) -> str>"
      ]
     },
     "execution_count": 48,
     "metadata": {},
     "output_type": "execute_result"
    }
   ],
   "source": [
    "a = [ag1,[f,[g,[\"\"]]],[g,[g,[\"\"]]]]\n",
    "tree = tree_from_list(a)\n",
    "tree.child[0].value\n",
    "nb_nodes = tree.get_depth() \n",
    "#tree.child[eval(choice)].value\n",
    "np.random.choice(tree.child).value\n"
   ]
  },
  {
   "cell_type": "code",
   "execution_count": 31,
   "metadata": {},
   "outputs": [
    {
     "data": {
      "text/plain": [
       "'remove'"
      ]
     },
     "execution_count": 31,
     "metadata": {},
     "output_type": "execute_result"
    }
   ],
   "source": [
    "a = [ag1,[f,[g,[\"\"]]],[g,[g,[\"\"]]]]\n",
    "action = [\"add\",\"modify\",\"remove\"]\n",
    "\n",
    "match np.random.choice(action):\n",
    "    case \"add\":\n",
    "        choice = np.random.choice([\"left\",\"right\"])\n",
    "        \n",
    "        pass\n",
    "    case \"modify\":\n",
    "        pass\n",
    "    case \"remove\":\n",
    "        pass"
   ]
  },
  {
   "cell_type": "code",
   "execution_count": 14,
   "metadata": {},
   "outputs": [
    {
     "data": {
      "text/plain": [
       "[3, 9, 11, 17]"
      ]
     },
     "execution_count": 14,
     "metadata": {},
     "output_type": "execute_result"
    }
   ],
   "source": [
    "k = [(1,2),(4,5),(3,8),(8,9)]\n",
    "compute_score = lambda elem:(x:=[elem[0],y:=[elem[1]]], x[0]+y[0])[-1]\n",
    "list(map(compute_score,k))\n",
    "\n"
   ]
  }
 ],
 "metadata": {
  "kernelspec": {
   "display_name": "Python 3",
   "language": "python",
   "name": "python3"
  },
  "language_info": {
   "codemirror_mode": {
    "name": "ipython",
    "version": 3
   },
   "file_extension": ".py",
   "mimetype": "text/x-python",
   "name": "python",
   "nbconvert_exporter": "python",
   "pygments_lexer": "ipython3",
   "version": "3.11.0"
  },
  "orig_nbformat": 4
 },
 "nbformat": 4,
 "nbformat_minor": 2
}
