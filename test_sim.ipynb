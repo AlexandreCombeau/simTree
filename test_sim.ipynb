{
 "cells": [
  {
   "cell_type": "code",
   "execution_count": 1,
   "metadata": {},
   "outputs": [
    {
     "name": "stderr",
     "output_type": "stream",
     "text": [
      "[nltk_data] Downloading package punkt to\n",
      "[nltk_data]     C:\\Users\\user2\\AppData\\Roaming\\nltk_data...\n",
      "[nltk_data]   Package punkt is already up-to-date!\n",
      "[nltk_data] Downloading package stopwords to\n",
      "[nltk_data]     C:\\Users\\user2\\AppData\\Roaming\\nltk_data...\n",
      "[nltk_data]   Package stopwords is already up-to-date!\n",
      "[nltk_data] Downloading package wordnet to\n",
      "[nltk_data]     C:\\Users\\user2\\AppData\\Roaming\\nltk_data...\n",
      "[nltk_data]   Package wordnet is already up-to-date!\n"
     ]
    }
   ],
   "source": [
    "from transformation import *"
   ]
  },
  {
   "cell_type": "code",
   "execution_count": 2,
   "metadata": {},
   "outputs": [],
   "source": [
    "fun = transformation_functions()\n",
    "x = \"The Boots and the Cats.  \"\n",
    "y = \"28/10/2006\"\n",
    "list(map(lambda x: x.__name__,fun))\n",
    "lift = lambda f,l : list(map(f,l))\n",
    "clean = lambda x: [e for e in x if e]"
   ]
  },
  {
   "cell_type": "code",
   "execution_count": 3,
   "metadata": {},
   "outputs": [
    {
     "name": "stdout",
     "output_type": "stream",
     "text": [
      "the boots and the cats.  \n",
      "THE BOOTS AND THE CATS.  \n",
      "The Boots and the Cats.\n",
      "TheBootsandtheCats.\n",
      "['The', 'Boots', 'and', 'the', 'Cats', '.']\n",
      "['THE', 'BOOTS', 'AND', 'THE', 'CATS', '.']\n",
      "['The', 'Boots', 'and', 'the', 'Cats', '.']\n",
      "The Boots and the Cats  \n",
      "['THE', 'BOOTS', 'AND', 'THE', 'CATS', '']\n",
      "['the', 'boot', 'and', 'the', 'cat', '.']\n",
      "['The', 'Boots', 'Cats', '.']\n"
     ]
    }
   ],
   "source": [
    "print(lowercase(x))\n",
    "print(uppercase(x))\n",
    "\n",
    "print(strip_whitespace(x))\n",
    "print(remove_whitespace(x))\n",
    "print(tokenize(x))\n",
    "print(lift(uppercase,tokenize(x)))\n",
    "print(lift(remove_whitespace,tokenize(x)))\n",
    "print(remove_punctuation(x))\n",
    "print(lift(uppercase,lift(remove_punctuation,tokenize(x))))\n",
    "print(lift(stem,tokenize(x)))\n",
    "print(clean(lift(remove_stopwords,tokenize(x))))\n"
   ]
  },
  {
   "cell_type": "code",
   "execution_count": 7,
   "metadata": {},
   "outputs": [
    {
     "data": {
      "text/plain": [
       "['__new__',\n",
       " '__repr__',\n",
       " '__call__',\n",
       " '__get__',\n",
       " '__closure__',\n",
       " '__doc__',\n",
       " '__globals__',\n",
       " '__module__',\n",
       " '__builtins__',\n",
       " '__code__',\n",
       " '__defaults__',\n",
       " '__kwdefaults__',\n",
       " '__annotations__',\n",
       " '__dict__',\n",
       " '__name__',\n",
       " '__qualname__',\n",
       " '__hash__',\n",
       " '__str__',\n",
       " '__getattribute__',\n",
       " '__setattr__',\n",
       " '__delattr__',\n",
       " '__lt__',\n",
       " '__le__',\n",
       " '__eq__',\n",
       " '__ne__',\n",
       " '__gt__',\n",
       " '__ge__',\n",
       " '__init__',\n",
       " '__reduce_ex__',\n",
       " '__reduce__',\n",
       " '__getstate__',\n",
       " '__subclasshook__',\n",
       " '__init_subclass__',\n",
       " '__format__',\n",
       " '__sizeof__',\n",
       " '__dir__',\n",
       " '__class__']"
      ]
     },
     "execution_count": 7,
     "metadata": {},
     "output_type": "execute_result"
    }
   ],
   "source": [
    "tokenize.__dir__()"
   ]
  },
  {
   "cell_type": "code",
   "execution_count": 32,
   "metadata": {},
   "outputs": [
    {
     "data": {
      "text/plain": [
       "['lmmm']"
      ]
     },
     "execution_count": 32,
     "metadata": {},
     "output_type": "execute_result"
    }
   ],
   "source": [
    "tokenize(\"lmmm\")"
   ]
  },
  {
   "cell_type": "code",
   "execution_count": 42,
   "metadata": {},
   "outputs": [
    {
     "ename": "TypeError",
     "evalue": "'type' object is not iterable",
     "output_type": "error",
     "traceback": [
      "\u001b[1;31m---------------------------------------------------------------------------\u001b[0m",
      "\u001b[1;31mTypeError\u001b[0m                                 Traceback (most recent call last)",
      "Cell \u001b[1;32mIn[42], line 1\u001b[0m\n\u001b[1;32m----> 1\u001b[0m \u001b[39misinstance\u001b[39m(\u001b[39mlist\u001b[39m(\u001b[39mmap\u001b[39m(tokenize,[\u001b[39m\"\u001b[39m\u001b[39mko\u001b[39m\u001b[39m\"\u001b[39m,\u001b[39m\"\u001b[39m\u001b[39mko\u001b[39m\u001b[39m\"\u001b[39m])),\u001b[39mlist\u001b[39;49m(\u001b[39mlist\u001b[39;49m))\n",
      "\u001b[1;31mTypeError\u001b[0m: 'type' object is not iterable"
     ]
    }
   ],
   "source": [
    "isinstance(list(map(tokenize,[\"ko\",\"ko\"])),list(list))"
   ]
  },
  {
   "cell_type": "code",
   "execution_count": 4,
   "metadata": {},
   "outputs": [
    {
     "name": "stdout",
     "output_type": "stream",
     "text": [
      "['The', 'Boots', 'and', 'the', 'Cats', '.']\n"
     ]
    },
    {
     "ename": "TypeError",
     "evalue": "uppercase() takes 1 positional argument but 6 were given",
     "output_type": "error",
     "traceback": [
      "\u001b[1;31m---------------------------------------------------------------------------\u001b[0m",
      "\u001b[1;31mTypeError\u001b[0m                                 Traceback (most recent call last)",
      "Cell \u001b[1;32mIn[4], line 3\u001b[0m\n\u001b[0;32m      1\u001b[0m _x \u001b[39m=\u001b[39m tokenize(x)\n\u001b[0;32m      2\u001b[0m \u001b[39mprint\u001b[39m(_x)\n\u001b[1;32m----> 3\u001b[0m uppercase(\u001b[39m*\u001b[39;49m_x)\n",
      "\u001b[1;31mTypeError\u001b[0m: uppercase() takes 1 positional argument but 6 were given"
     ]
    }
   ],
   "source": [
    "_x = tokenize(x)\n",
    "print(_x)\n",
    "uppercase(*_x)"
   ]
  },
  {
   "cell_type": "code",
   "execution_count": 5,
   "metadata": {},
   "outputs": [
    {
     "data": {
      "text/plain": [
       "[<function transformation.identity(x)>,\n",
       " <function transformation.lowercase(x)>,\n",
       " <function transformation.uppercase(x)>,\n",
       " <function transformation.strip_whitespace(x)>,\n",
       " <function transformation.remove_whitespace(x)>,\n",
       " <function transformation.remove_punctuation(text)>,\n",
       " <function transformation.stem(text)>,\n",
       " <function transformation.remove_stopwords(text)>,\n",
       " <function transformation.tokenize(text)>]"
      ]
     },
     "execution_count": 5,
     "metadata": {},
     "output_type": "execute_result"
    }
   ],
   "source": [
    "nl = []\n",
    "for f in transformation_functions:\n",
    "    nl.append(lift(f))"
   ]
  }
 ],
 "metadata": {
  "kernelspec": {
   "display_name": "Python 3",
   "language": "python",
   "name": "python3"
  },
  "language_info": {
   "codemirror_mode": {
    "name": "ipython",
    "version": 3
   },
   "file_extension": ".py",
   "mimetype": "text/x-python",
   "name": "python",
   "nbconvert_exporter": "python",
   "pygments_lexer": "ipython3",
   "version": "3.11.2"
  },
  "orig_nbformat": 4
 },
 "nbformat": 4,
 "nbformat_minor": 2
}
