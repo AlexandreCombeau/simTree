{
 "cells": [
  {
   "cell_type": "code",
   "execution_count": 1,
   "metadata": {},
   "outputs": [],
   "source": [
    "import numpy as np\n",
    "import typing"
   ]
  },
  {
   "cell_type": "code",
   "execution_count": 2,
   "metadata": {},
   "outputs": [
    {
     "name": "stderr",
     "output_type": "stream",
     "text": [
      "[nltk_data] Downloading package punkt to\n",
      "[nltk_data]     C:\\Users\\Combal\\AppData\\Roaming\\nltk_data...\n",
      "[nltk_data]   Package punkt is already up-to-date!\n",
      "[nltk_data] Downloading package stopwords to\n",
      "[nltk_data]     C:\\Users\\Combal\\AppData\\Roaming\\nltk_data...\n",
      "[nltk_data]   Package stopwords is already up-to-date!\n",
      "[nltk_data] Downloading package wordnet to\n",
      "[nltk_data]     C:\\Users\\Combal\\AppData\\Roaming\\nltk_data...\n",
      "[nltk_data]   Package wordnet is already up-to-date!\n"
     ]
    }
   ],
   "source": [
    "from transformation import *\n",
    "from similarity import *\n"
   ]
  },
  {
   "cell_type": "code",
   "execution_count": 3,
   "metadata": {},
   "outputs": [],
   "source": [
    "fun = transformation_functions()\n",
    "x = \"The Boots and the Cats.  \"\n",
    "y = \"28/10/2006\"\n",
    "name = lambda x: list(map(lambda x: x.__name__,x))\n",
    "compose = lambda acc,l : ([acc := x(acc) for x in l],acc)\n",
    "\n",
    "#lift = lambda f,l : list(map(f,l))\n",
    "#lift_if_list = lambda f,x : f(x) if isinstance(x,str) else lift(f,x)\n",
    "#clean = lambda x: [e for e in x if e]"
   ]
  },
  {
   "cell_type": "code",
   "execution_count": 4,
   "metadata": {},
   "outputs": [
    {
     "name": "stdout",
     "output_type": "stream",
     "text": [
      "['remove_whitespace', 'remove_stopwords', 'tokenize', 'lowercase', 'remove_punctuation', 'flatten', 'strip_whitespace', 'stem']\n",
      "The Boots and the Cats.   thebootsandthecat\n"
     ]
    }
   ],
   "source": [
    "tf = np.random.choice(transformation_functions(),8,replace=False)\n",
    "_,res = compose(\"The Boots and the Cats.  \",tf)\n",
    "print(name(tf))\n",
    "print(x,res)  "
   ]
  },
  {
   "cell_type": "code",
   "execution_count": 5,
   "metadata": {},
   "outputs": [],
   "source": [
    "def flatten(x : valueType) -> str:\n",
    "    return reduce(lambda acc,x : acc+x,x,\"\")"
   ]
  },
  {
   "cell_type": "code",
   "execution_count": null,
   "metadata": {},
   "outputs": [],
   "source": [
    "###---------------------------------------------------------------------###\n",
    "###-------------------------------------> Helper functions\n",
    "\n",
    "def f(a : str) -> str:\n",
    "    return a+\"o\"\n",
    "def g(a : str) -> str:\n",
    "    return a+\"K\"\n",
    "def h(a : str) -> str:\n",
    "    return a+a\n",
    "def ag1(a : str, b : str) -> str:\n",
    "    return a+\"-\"+b\n",
    "def ag2(a : str, b : str) -> str:\n",
    "    return b+\"-\"+a\n",
    "\n"
   ]
  },
  {
   "cell_type": "code",
   "execution_count": 6,
   "metadata": {},
   "outputs": [
    {
     "data": {
      "text/plain": [
       "'lkllk'"
      ]
     },
     "execution_count": 6,
     "metadata": {},
     "output_type": "execute_result"
    }
   ],
   "source": [
    "flatten([\"lkl\",\"lk\"])"
   ]
  },
  {
   "cell_type": "code",
   "execution_count": 7,
   "metadata": {},
   "outputs": [],
   "source": [
    "def test(ag,fl,fr,x,y):\n",
    "    left = flatten(compose(x,fl)[1])\n",
    "    right = flatten(compose(y,fr)[1])\n",
    "    print(left+\" - \"+right)\n",
    "    return ag(left,right)"
   ]
  },
  {
   "cell_type": "code",
   "execution_count": 35,
   "metadata": {},
   "outputs": [
    {
     "name": "stdout",
     "output_type": "stream",
     "text": [
      "['remove_stopwords', 'tokenize', 'remove_whitespace', 'tokenize', 'strip_whitespace']\n",
      "['remove_punctuation', 'flatten', 'flatten', 'tokenize', 'remove_whitespace']\n",
      "damerau_levenshtein_dist_similarity\n",
      "TheBootsCats. - BootsandCats\n"
     ]
    },
    {
     "data": {
      "text/plain": [
       "0.46153846153846156"
      ]
     },
     "execution_count": 35,
     "metadata": {},
     "output_type": "execute_result"
    }
   ],
   "source": [
    "fl = np.random.choice(transformation_functions(),5,replace=True)\n",
    "fr = np.random.choice(transformation_functions(),5,replace=True)\n",
    "ag = np.random.choice(similarity_functions(),1,replace=False)[0]\n",
    "print(name(fl))\n",
    "print(name(fr))\n",
    "print(ag.__name__)\n",
    "x = \"The Boots and the Cats.  \"\n",
    "y = \"Boots and Cats \"\n",
    "test(ag,fl,fr,x,y)\n"
   ]
  },
  {
   "cell_type": "code",
   "execution_count": 12,
   "metadata": {},
   "outputs": [],
   "source": [
    "def cos_similarity(x : str, y : str):\n",
    "    # Compute cosine similarity using TF-IDF vectors\n",
    "    tfidf_vectorizer = TfidfVectorizer()\n",
    "    tfidf_matrix = tfidf_vectorizer.fit_transform([x, y])\n",
    "    cosine_sim = cosine_similarity(tfidf_matrix[0:1], tfidf_matrix[1:2])[0][0]\n",
    "    return cosine_sim\n",
    "\n"
   ]
  },
  {
   "cell_type": "code",
   "execution_count": null,
   "metadata": {},
   "outputs": [],
   "source": [
    "#helper functions\n",
    "def remove_elem(pop : list,score_pop : list,index_list : list[int]) -> None:\n",
    "    for i in index_list:\n",
    "        pop.remove(i)\n",
    "        score_pop.remove(i)"
   ]
  }
 ],
 "metadata": {
  "kernelspec": {
   "display_name": "Python 3",
   "language": "python",
   "name": "python3"
  },
  "language_info": {
   "codemirror_mode": {
    "name": "ipython",
    "version": 3
   },
   "file_extension": ".py",
   "mimetype": "text/x-python",
   "name": "python",
   "nbconvert_exporter": "python",
   "pygments_lexer": "ipython3",
   "version": "3.11.0"
  },
  "orig_nbformat": 4
 },
 "nbformat": 4,
 "nbformat_minor": 2
}
